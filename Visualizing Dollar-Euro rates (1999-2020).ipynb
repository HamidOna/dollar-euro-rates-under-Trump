{
 "cells": [
  {
   "cell_type": "markdown",
   "metadata": {},
   "source": [
    "# Visualizing Dollar-Euro rates (1999-2020)\n",
    "The euro (symbolized with €) is the official currency in most of the countries of the European Union. We are going to visualize the euro-dollar exchange rate in the past two decades.\n",
    "\n",
    "If the exchange rate of the euro to the US dollar is 1.5, you get 1.5 US dollars if you pay 1.0 euro (one euro has more value than one US dollar at this exchange rate).\n",
    "\n",
    "Daria Chemkaeva put together the data set and made it available on [Kaggle](https://www.kaggle.com/lsind18/euro-exchange-daily-rates-19992020) — the data source is the European Central Bank. "
   ]
  },
  {
   "cell_type": "code",
   "execution_count": 10,
   "metadata": {},
   "outputs": [
    {
     "data": {
      "text/html": [
       "<div>\n",
       "<style scoped>\n",
       "    .dataframe tbody tr th:only-of-type {\n",
       "        vertical-align: middle;\n",
       "    }\n",
       "\n",
       "    .dataframe tbody tr th {\n",
       "        vertical-align: top;\n",
       "    }\n",
       "\n",
       "    .dataframe thead th {\n",
       "        text-align: right;\n",
       "    }\n",
       "</style>\n",
       "<table border=\"1\" class=\"dataframe\">\n",
       "  <thead>\n",
       "    <tr style=\"text-align: right;\">\n",
       "      <th></th>\n",
       "      <th>Period\\Unit:</th>\n",
       "      <th>[Argentine peso ]</th>\n",
       "      <th>[Australian dollar ]</th>\n",
       "      <th>[Bulgarian lev ]</th>\n",
       "      <th>[Brazilian real ]</th>\n",
       "      <th>[Canadian dollar ]</th>\n",
       "      <th>[Swiss franc ]</th>\n",
       "      <th>[Chinese yuan renminbi ]</th>\n",
       "      <th>[Cypriot pound ]</th>\n",
       "      <th>[Czech koruna ]</th>\n",
       "      <th>...</th>\n",
       "      <th>[Russian rouble ]</th>\n",
       "      <th>[Swedish krona ]</th>\n",
       "      <th>[Singapore dollar ]</th>\n",
       "      <th>[Slovenian tolar ]</th>\n",
       "      <th>[Slovak koruna ]</th>\n",
       "      <th>[Thai baht ]</th>\n",
       "      <th>[Turkish lira ]</th>\n",
       "      <th>[New Taiwan dollar ]</th>\n",
       "      <th>[US dollar ]</th>\n",
       "      <th>[South African rand ]</th>\n",
       "    </tr>\n",
       "  </thead>\n",
       "  <tbody>\n",
       "    <tr>\n",
       "      <th>0</th>\n",
       "      <td>2021-09-20</td>\n",
       "      <td>NaN</td>\n",
       "      <td>1.6201</td>\n",
       "      <td>1.9558</td>\n",
       "      <td>6.2495</td>\n",
       "      <td>1.5056</td>\n",
       "      <td>1.0883</td>\n",
       "      <td>7.5726</td>\n",
       "      <td>NaN</td>\n",
       "      <td>25.432</td>\n",
       "      <td>...</td>\n",
       "      <td>86.0700</td>\n",
       "      <td>10.2173</td>\n",
       "      <td>1.5839</td>\n",
       "      <td>NaN</td>\n",
       "      <td>NaN</td>\n",
       "      <td>39.0620</td>\n",
       "      <td>10.1512</td>\n",
       "      <td>NaN</td>\n",
       "      <td>1.1711</td>\n",
       "      <td>17.3301</td>\n",
       "    </tr>\n",
       "    <tr>\n",
       "      <th>1</th>\n",
       "      <td>2021-09-17</td>\n",
       "      <td>NaN</td>\n",
       "      <td>1.6111</td>\n",
       "      <td>1.9558</td>\n",
       "      <td>6.2039</td>\n",
       "      <td>1.4913</td>\n",
       "      <td>1.0931</td>\n",
       "      <td>7.6044</td>\n",
       "      <td>NaN</td>\n",
       "      <td>25.296</td>\n",
       "      <td>...</td>\n",
       "      <td>85.4338</td>\n",
       "      <td>10.1553</td>\n",
       "      <td>1.5851</td>\n",
       "      <td>NaN</td>\n",
       "      <td>NaN</td>\n",
       "      <td>39.1450</td>\n",
       "      <td>10.1323</td>\n",
       "      <td>NaN</td>\n",
       "      <td>1.1780</td>\n",
       "      <td>17.1891</td>\n",
       "    </tr>\n",
       "    <tr>\n",
       "      <th>2</th>\n",
       "      <td>2021-09-16</td>\n",
       "      <td>NaN</td>\n",
       "      <td>1.6077</td>\n",
       "      <td>1.9558</td>\n",
       "      <td>6.1611</td>\n",
       "      <td>1.4863</td>\n",
       "      <td>1.0886</td>\n",
       "      <td>7.5849</td>\n",
       "      <td>NaN</td>\n",
       "      <td>25.281</td>\n",
       "      <td>...</td>\n",
       "      <td>85.2347</td>\n",
       "      <td>10.1518</td>\n",
       "      <td>1.5805</td>\n",
       "      <td>NaN</td>\n",
       "      <td>NaN</td>\n",
       "      <td>38.9180</td>\n",
       "      <td>9.9663</td>\n",
       "      <td>NaN</td>\n",
       "      <td>1.1763</td>\n",
       "      <td>17.0544</td>\n",
       "    </tr>\n",
       "    <tr>\n",
       "      <th>3</th>\n",
       "      <td>2021-09-15</td>\n",
       "      <td>NaN</td>\n",
       "      <td>1.6153</td>\n",
       "      <td>1.9558</td>\n",
       "      <td>6.1979</td>\n",
       "      <td>1.5004</td>\n",
       "      <td>1.0845</td>\n",
       "      <td>7.6069</td>\n",
       "      <td>NaN</td>\n",
       "      <td>25.318</td>\n",
       "      <td>...</td>\n",
       "      <td>85.9738</td>\n",
       "      <td>10.1360</td>\n",
       "      <td>1.5860</td>\n",
       "      <td>NaN</td>\n",
       "      <td>NaN</td>\n",
       "      <td>38.8650</td>\n",
       "      <td>9.9769</td>\n",
       "      <td>NaN</td>\n",
       "      <td>1.1824</td>\n",
       "      <td>16.8973</td>\n",
       "    </tr>\n",
       "    <tr>\n",
       "      <th>4</th>\n",
       "      <td>2021-09-14</td>\n",
       "      <td>NaN</td>\n",
       "      <td>1.6114</td>\n",
       "      <td>1.9558</td>\n",
       "      <td>6.1788</td>\n",
       "      <td>1.4951</td>\n",
       "      <td>1.0887</td>\n",
       "      <td>7.6168</td>\n",
       "      <td>NaN</td>\n",
       "      <td>25.389</td>\n",
       "      <td>...</td>\n",
       "      <td>86.1062</td>\n",
       "      <td>10.1453</td>\n",
       "      <td>1.5870</td>\n",
       "      <td>NaN</td>\n",
       "      <td>NaN</td>\n",
       "      <td>38.9270</td>\n",
       "      <td>9.9848</td>\n",
       "      <td>NaN</td>\n",
       "      <td>1.1814</td>\n",
       "      <td>16.8097</td>\n",
       "    </tr>\n",
       "  </tbody>\n",
       "</table>\n",
       "<p>5 rows × 45 columns</p>\n",
       "</div>"
      ],
      "text/plain": [
       "  Period\\Unit: [Argentine peso ] [Australian dollar ] [Bulgarian lev ]  \\\n",
       "0   2021-09-20               NaN               1.6201           1.9558   \n",
       "1   2021-09-17               NaN               1.6111           1.9558   \n",
       "2   2021-09-16               NaN               1.6077           1.9558   \n",
       "3   2021-09-15               NaN               1.6153           1.9558   \n",
       "4   2021-09-14               NaN               1.6114           1.9558   \n",
       "\n",
       "  [Brazilian real ] [Canadian dollar ] [Swiss franc ]  \\\n",
       "0            6.2495             1.5056         1.0883   \n",
       "1            6.2039             1.4913         1.0931   \n",
       "2            6.1611             1.4863         1.0886   \n",
       "3            6.1979             1.5004         1.0845   \n",
       "4            6.1788             1.4951         1.0887   \n",
       "\n",
       "  [Chinese yuan renminbi ] [Cypriot pound ] [Czech koruna ]  ...  \\\n",
       "0                   7.5726              NaN          25.432  ...   \n",
       "1                   7.6044              NaN          25.296  ...   \n",
       "2                   7.5849              NaN          25.281  ...   \n",
       "3                   7.6069              NaN          25.318  ...   \n",
       "4                   7.6168              NaN          25.389  ...   \n",
       "\n",
       "  [Russian rouble ] [Swedish krona ] [Singapore dollar ] [Slovenian tolar ]  \\\n",
       "0           86.0700          10.2173              1.5839                NaN   \n",
       "1           85.4338          10.1553              1.5851                NaN   \n",
       "2           85.2347          10.1518              1.5805                NaN   \n",
       "3           85.9738          10.1360              1.5860                NaN   \n",
       "4           86.1062          10.1453              1.5870                NaN   \n",
       "\n",
       "  [Slovak koruna ] [Thai baht ] [Turkish lira ] [New Taiwan dollar ]  \\\n",
       "0              NaN      39.0620         10.1512                  NaN   \n",
       "1              NaN      39.1450         10.1323                  NaN   \n",
       "2              NaN      38.9180          9.9663                  NaN   \n",
       "3              NaN      38.8650          9.9769                  NaN   \n",
       "4              NaN      38.9270          9.9848                  NaN   \n",
       "\n",
       "  [US dollar ] [South African rand ]  \n",
       "0       1.1711               17.3301  \n",
       "1       1.1780               17.1891  \n",
       "2       1.1763               17.0544  \n",
       "3       1.1824               16.8973  \n",
       "4       1.1814               16.8097  \n",
       "\n",
       "[5 rows x 45 columns]"
      ]
     },
     "execution_count": 10,
     "metadata": {},
     "output_type": "execute_result"
    }
   ],
   "source": [
    "import pandas as pd\n",
    "import matplotlib.pyplot as plt\n",
    "\n",
    "exchange_rates = pd.read_csv(\"euro_daily.csv\")\n",
    "exchange_rates.head()"
   ]
  },
  {
   "cell_type": "code",
   "execution_count": 11,
   "metadata": {},
   "outputs": [
    {
     "name": "stdout",
     "output_type": "stream",
     "text": [
      "<class 'pandas.core.frame.DataFrame'>\n",
      "RangeIndex: 5878 entries, 0 to 5877\n",
      "Data columns (total 45 columns):\n",
      " #   Column                    Non-Null Count  Dtype  \n",
      "---  ------                    --------------  -----  \n",
      " 0   Period\\Unit:              5878 non-null   object \n",
      " 1   [Argentine peso ]         5383 non-null   object \n",
      " 2   [Australian dollar ]      5878 non-null   object \n",
      " 3   [Bulgarian lev ]          5476 non-null   object \n",
      " 4   [Brazilian real ]         5610 non-null   object \n",
      " 5   [Canadian dollar ]        5878 non-null   object \n",
      " 6   [Swiss franc ]            5878 non-null   object \n",
      " 7   [Chinese yuan renminbi ]  5610 non-null   object \n",
      " 8   [Cypriot pound ]          2346 non-null   object \n",
      " 9   [Czech koruna ]           5878 non-null   object \n",
      " 10  [Danish krone ]           5878 non-null   object \n",
      " 11  [Algerian dinar ]         5383 non-null   object \n",
      " 12  [Estonian kroon ]         3130 non-null   object \n",
      " 13  [UK pound sterling ]      5878 non-null   object \n",
      " 14  [Greek drachma ]          520 non-null    object \n",
      " 15  [Hong Kong dollar ]       5878 non-null   object \n",
      " 16  [Croatian kuna ]          5610 non-null   object \n",
      " 17  [Hungarian forint ]       5878 non-null   object \n",
      " 18  [Indonesian rupiah ]      5878 non-null   object \n",
      " 19  [Israeli shekel ]         5610 non-null   object \n",
      " 20  [Indian rupee ]           5610 non-null   object \n",
      " 21  [Iceland krona ]          3471 non-null   float64\n",
      " 22  [Japanese yen ]           5878 non-null   object \n",
      " 23  [Korean won ]             5878 non-null   object \n",
      " 24  [Lithuanian litas ]       4159 non-null   object \n",
      " 25  [Latvian lats ]           3904 non-null   object \n",
      " 26  [Moroccan dirham ]        5383 non-null   object \n",
      " 27  [Maltese lira ]           2346 non-null   object \n",
      " 28  [Mexican peso ]           5878 non-null   object \n",
      " 29  [Malaysian ringgit ]      5878 non-null   object \n",
      " 30  [Norwegian krone ]        5878 non-null   object \n",
      " 31  [New Zealand dollar ]     5878 non-null   object \n",
      " 32  [Philippine peso ]        5878 non-null   object \n",
      " 33  [Polish zloty ]           5878 non-null   object \n",
      " 34  [Romanian leu ]           5816 non-null   float64\n",
      " 35  [Russian rouble ]         5878 non-null   object \n",
      " 36  [Swedish krona ]          5878 non-null   object \n",
      " 37  [Singapore dollar ]       5878 non-null   object \n",
      " 38  [Slovenian tolar ]        2085 non-null   object \n",
      " 39  [Slovak koruna ]          2608 non-null   object \n",
      " 40  [Thai baht ]              5878 non-null   object \n",
      " 41  [Turkish lira ]           5816 non-null   float64\n",
      " 42  [New Taiwan dollar ]      5383 non-null   object \n",
      " 43  [US dollar ]              5878 non-null   object \n",
      " 44  [South African rand ]     5878 non-null   object \n",
      "dtypes: float64(3), object(42)\n",
      "memory usage: 2.0+ MB\n"
     ]
    }
   ],
   "source": [
    "exchange_rates.info()"
   ]
  },
  {
   "cell_type": "markdown",
   "metadata": {},
   "source": [
    "The dataset contains the excange rate between euro and 44 other currencies. Our major focus for this project is the United state Dollars. Thankfully, this column has no missing values but requires some cleaning."
   ]
  },
  {
   "cell_type": "code",
   "execution_count": 12,
   "metadata": {},
   "outputs": [
    {
     "data": {
      "text/plain": [
       "array(['1.1711', '1.1780', '1.1763', ..., '1.1653', '1.1520', '1.1659'],\n",
       "      dtype=object)"
      ]
     },
     "execution_count": 12,
     "metadata": {},
     "output_type": "execute_result"
    }
   ],
   "source": [
    "exchange_rates['[US dollar ]'].unique()"
   ]
  },
  {
   "cell_type": "markdown",
   "metadata": {},
   "source": [
    "We will isolate the USD column and the time column into as another dataframe. The columns are not properly named, so appropriate adjustments will be made."
   ]
  },
  {
   "cell_type": "code",
   "execution_count": 13,
   "metadata": {},
   "outputs": [
    {
     "data": {
      "text/html": [
       "<div>\n",
       "<style scoped>\n",
       "    .dataframe tbody tr th:only-of-type {\n",
       "        vertical-align: middle;\n",
       "    }\n",
       "\n",
       "    .dataframe tbody tr th {\n",
       "        vertical-align: top;\n",
       "    }\n",
       "\n",
       "    .dataframe thead th {\n",
       "        text-align: right;\n",
       "    }\n",
       "</style>\n",
       "<table border=\"1\" class=\"dataframe\">\n",
       "  <thead>\n",
       "    <tr style=\"text-align: right;\">\n",
       "      <th></th>\n",
       "      <th>Time</th>\n",
       "      <th>US dollar</th>\n",
       "    </tr>\n",
       "  </thead>\n",
       "  <tbody>\n",
       "    <tr>\n",
       "      <th>0</th>\n",
       "      <td>1999-01-04</td>\n",
       "      <td>1.1789</td>\n",
       "    </tr>\n",
       "    <tr>\n",
       "      <th>1</th>\n",
       "      <td>1999-01-05</td>\n",
       "      <td>1.1790</td>\n",
       "    </tr>\n",
       "    <tr>\n",
       "      <th>2</th>\n",
       "      <td>1999-01-06</td>\n",
       "      <td>1.1743</td>\n",
       "    </tr>\n",
       "    <tr>\n",
       "      <th>3</th>\n",
       "      <td>1999-01-07</td>\n",
       "      <td>1.1632</td>\n",
       "    </tr>\n",
       "    <tr>\n",
       "      <th>4</th>\n",
       "      <td>1999-01-08</td>\n",
       "      <td>1.1659</td>\n",
       "    </tr>\n",
       "  </tbody>\n",
       "</table>\n",
       "</div>"
      ],
      "text/plain": [
       "        Time US dollar\n",
       "0 1999-01-04    1.1789\n",
       "1 1999-01-05    1.1790\n",
       "2 1999-01-06    1.1743\n",
       "3 1999-01-07    1.1632\n",
       "4 1999-01-08    1.1659"
      ]
     },
     "execution_count": 13,
     "metadata": {},
     "output_type": "execute_result"
    }
   ],
   "source": [
    "US_dollar = exchange_rates[['Period\\\\Unit:', '[US dollar ]' ]]\n",
    "US_dollar = pd.DataFrame(US_dollar)\n",
    "US_dollar.columns = ['Time', 'US dollar']\n",
    "\n",
    "US_dollar['Time'] = pd.to_datetime(US_dollar['Time'])\n",
    "US_dollar.sort_values('Time', inplace=True)\n",
    "US_dollar.reset_index(drop=True, inplace=True)\n",
    "US_dollar.head()"
   ]
  },
  {
   "cell_type": "code",
   "execution_count": 14,
   "metadata": {},
   "outputs": [
    {
     "data": {
      "text/plain": [
       "-         62\n",
       "1.2276     9\n",
       "1.1215     8\n",
       "1.1305     7\n",
       "1.2713     6\n",
       "          ..\n",
       "1.5340     1\n",
       "1.1093     1\n",
       "1.3666     1\n",
       "1.5206     1\n",
       "1.0798     1\n",
       "Name: US dollar, Length: 3576, dtype: int64"
      ]
     },
     "execution_count": 14,
     "metadata": {},
     "output_type": "execute_result"
    }
   ],
   "source": [
    "US_dollar['US dollar'].value_counts()"
   ]
  },
  {
   "cell_type": "markdown",
   "metadata": {},
   "source": [
    "Some rows have their values submitted as hyphens. We will drop these rows and convert the 'US dollar column to a float type."
   ]
  },
  {
   "cell_type": "code",
   "execution_count": 15,
   "metadata": {},
   "outputs": [],
   "source": [
    "drop_rows = US_dollar[US_dollar['US dollar']=='-'].index\n",
    "US_dollar.drop(drop_rows, axis=0, inplace=True)\n",
    "US_dollar['US dollar'] = US_dollar['US dollar'].astype(float)"
   ]
  },
  {
   "cell_type": "code",
   "execution_count": 16,
   "metadata": {},
   "outputs": [],
   "source": [
    "US_dollar['rolling_mean'] = US_dollar['US dollar'].rolling(30).mean()"
   ]
  },
  {
   "cell_type": "code",
   "execution_count": 17,
   "metadata": {},
   "outputs": [
    {
     "data": {
      "image/png": "[encoded data removed]",
      "text/plain": [
       "<Figure size 432x288 with 1 Axes>"
      ]
     },
     "metadata": {
      "needs_background": "light"
     },
     "output_type": "display_data"
    }
   ],
   "source": [
    "plt.plot(US_dollar['Time'], US_dollar['rolling_mean'])\n",
    "plt.title(\"euro-dollar rate (rolling window: 30)\")\n",
    "plt.show()"
   ]
  },
  {
   "cell_type": "markdown",
   "metadata": {},
   "source": [
    "We will visualize the rate about trumps time in office"
   ]
  },
  {
   "cell_type": "code",
   "execution_count": 18,
   "metadata": {},
   "outputs": [],
   "source": [
    "trump_watch = US_dollar[US_dollar['Time'].dt.year >= 2017]\n",
    "trump_watch_2017 = trump_watch[trump_watch['Time'].dt.year==2017]\n",
    "trump_watch_2018 = trump_watch[trump_watch['Time'].dt.year==2018]\n",
    "trump_watch_2019 = trump_watch[trump_watch['Time'].dt.year==2019]\n",
    "trump_watch_2020 = trump_watch[trump_watch['Time'].dt.year==2020]\n",
    "trump_watch_2021 = trump_watch[trump_watch['Time'].dt.year==2021]\n"
   ]
  },
  {
   "cell_type": "code",
   "execution_count": 19,
   "metadata": {},
   "outputs": [
    {
     "data": {
      "image/png": "[encoded data removed]",
      "text/plain": [
       "<Figure size 1224x432 with 5 Axes>"
      ]
     },
     "metadata": {},
     "output_type": "display_data"
    }
   ],
   "source": [
    "import warnings\n",
    "warnings.filterwarnings('ignore')\n",
    "\n",
    "### Adding the FiveThirtyEight style\n",
    "plt.style.use('fivethirtyeight')\n",
    "\n",
    "### Adding the subplots\n",
    "plt.figure(figsize=(17, 6))\n",
    "ax1 = plt.subplot(2,4,1)\n",
    "ax2 = plt.subplot(2,4,2)\n",
    "ax3 = plt.subplot(2,4,3)\n",
    "ax4 = plt.subplot(2,4,4)\n",
    "ax5 = plt.subplot(2,1,2)\n",
    "axes = [ax1, ax2, ax3, ax4]\n",
    "\n",
    "### Changes to all the subplots\n",
    "for ax in axes:\n",
    "    ax.set_ylim(0.8, 1.7)\n",
    "    ax.set_yticks([1.0, 1.2, 1.4, 1.6])\n",
    "    ax.set_yticklabels(['1.0', '1.2','1.4', '1.6'],\n",
    "                   alpha=0.3)\n",
    "    ax.grid(alpha=0.5)    \n",
    "    \n",
    "ax5.set_ylim(0.8, 1.7)\n",
    "ax5.set_yticks([1.0, 1.2, 1.4, 1.6])\n",
    "ax5.set_yticklabels(['1.0', '1.2','1.4', '1.6'],\n",
    "                   alpha=0.8)\n",
    "ax5.grid(False)\n",
    "\n",
    "## year 2017 plot\n",
    "ax1.plot(trump_watch_2017['Time'], trump_watch_2017['rolling_mean'],\n",
    "        color='g')\n",
    "ax1.set_xticklabels(['', 'Feb.', '', 'Jun.', '', 'oct.', ''],\n",
    "                   alpha=0.3)\n",
    "ax1.text(17167, 1.7, '• Financial crisis ends', fontsize=12, weight='light',\n",
    "        color='g')\n",
    "ax1.xaxis.grid(False)\n",
    "\n",
    "\n",
    "## year 2018 plot\n",
    "ax2.plot(trump_watch_2018['Time'], trump_watch_2018['rolling_mean'],\n",
    "        color='b')\n",
    "ax2.set_xticklabels(['', 'Feb.', '', 'Jun.', '', 'oct.', ''],\n",
    "                   alpha=0.3)\n",
    "ax2.text(17532, 1.7, '• Interest rate hikes', fontsize=12, weight='light',\n",
    "        color='b')\n",
    "ax2.xaxis.grid(False)\n",
    "\n",
    "## year 2019 plot\n",
    "ax3.plot(trump_watch_2019['Time'], trump_watch_2019['rolling_mean'],\n",
    "        color='orange')\n",
    "ax3.set_xticklabels(['', 'Feb.', '', 'Jun.', '', 'oct.', ''],\n",
    "                   alpha=0.3)\n",
    "ax3.text(17897, 1.7, '• US - China trade war continues', fontsize=12, weight='light',\n",
    "        color='orange')\n",
    "ax3.xaxis.grid(False)\n",
    "\n",
    "## year 2020 plot\n",
    "ax4.plot(trump_watch_2020['Time'], trump_watch_2020['rolling_mean'],\n",
    "        color='r')\n",
    "ax4.set_xticklabels(['', 'Feb.', '', 'Jun.', '', 'oct.', ''],\n",
    "                   alpha=0.3)\n",
    "ax4.text(18262, 1.7, '• The covid-19 curve ball', fontsize=12, weight='light',\n",
    "        color='r')\n",
    "ax4.xaxis.grid(False)\n",
    "\n",
    "\n",
    "## Full story\n",
    "ax5.plot(trump_watch_2017['Time'], trump_watch_2017['rolling_mean'],\n",
    "        color='g')\n",
    "ax5.plot(trump_watch_2018['Time'], trump_watch_2018['rolling_mean'],\n",
    "        color='b')\n",
    "\n",
    "ax5.plot(trump_watch_2019['Time'], trump_watch_2019['rolling_mean'],\n",
    "        color='orange')\n",
    "ax5.plot(trump_watch_2020['Time'], trump_watch_2020['rolling_mean'],\n",
    "        color='r')\n",
    "ax5.set_xticklabels(['','2017', '','2018','','2019', '', '2020'],\n",
    "                   alpha=0.9)\n",
    "\n",
    "ax1.text(17100.0, 2.0, \"EURO-USD rate averaged 1.15 under Trump's watch\",\n",
    "         fontsize=20, weight='bold')\n",
    "ax1.text(17100, 1.9, '''EURO-USD exchange rates steady under Donald Trump (2017-2021)''',\n",
    "        fontsize=16)\n",
    "\n",
    "ax5.text(17000, 0.6, '©Abdulhamid Onawole' + ' '*180 + 'Source: European Central Bank',\n",
    "        color = '#f0f0f0', backgroundcolor = '#4d4d4d',\n",
    "        size=14)\n",
    "plt.show()\n"
   ]
  },
  {
   "cell_type": "code",
   "execution_count": null,
   "metadata": {},
   "outputs": [],
   "source": []
  }
 ],
 "metadata": {
  "kernelspec": {
   "display_name": "Python 3",
   "language": "python",
   "name": "python3"
  },
  "language_info": {
   "codemirror_mode": {
    "name": "ipython",
    "version": 3
   },
   "file_extension": ".py",
   "mimetype": "text/x-python",
   "name": "python",
   "nbconvert_exporter": "python",
   "pygments_lexer": "ipython3",
   "version": "3.8.5"
  }
 },
 "nbformat": 4,
 "nbformat_minor": 4
}
